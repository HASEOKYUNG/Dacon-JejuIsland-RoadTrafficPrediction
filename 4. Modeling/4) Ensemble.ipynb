{
 "cells": [
  {
   "cell_type": "markdown",
   "id": "7e004614",
   "metadata": {},
   "source": [
    "## 4) Ensemble\n",
    "생성한 LGBM submission과 Tabnet submission을 Ensemble해 최종 submission을 구한다."
   ]
  },
  {
   "cell_type": "markdown",
   "id": "d0803489",
   "metadata": {},
   "source": [
    "### Import"
   ]
  },
  {
   "cell_type": "code",
   "execution_count": 1,
   "id": "210ba115",
   "metadata": {},
   "outputs": [],
   "source": [
    "import pandas as pd\n",
    "from sklearn.metrics import mean_absolute_error"
   ]
  },
  {
   "cell_type": "markdown",
   "id": "a31e6051",
   "metadata": {},
   "source": [
    "### Read Data"
   ]
  },
  {
   "cell_type": "code",
   "execution_count": null,
   "id": "d113a129",
   "metadata": {},
   "outputs": [],
   "source": [
    "mae = []"
   ]
  },
  {
   "cell_type": "code",
   "execution_count": 2,
   "id": "7d864b77",
   "metadata": {},
   "outputs": [],
   "source": [
    "# ensemble 데이터\n",
    "lgbm1 = pd.read_csv('../data/submission/20221113_2151.csv')\n",
    "lgbm2 = pd.read_csv('../data/submission/20221113_2204.csv')\n",
    "tabnet = pd.read_csv('../data/submission/tabnet_best_sub.csv')"
   ]
  },
  {
   "cell_type": "code",
   "execution_count": 2,
   "id": "8bb7164e",
   "metadata": {},
   "outputs": [],
   "source": [
    "# ensemble 데이터\n",
    "# lgbm1 = pd.read_csv('../data/submission/20221110_0916.csv')\n",
    "# lgbm2 = pd.read_csv('../data/submission/20221112_0008.csv')\n",
    "# lgbm3 = pd.read_csv('../data/submission/20221112_1313.csv')\n",
    "esm = pd.read_csv('../data/submission/20221113_0944.csv')\n",
    "tabnet = pd.read_csv('../data/submission/tabnet_best_sub.csv')"
   ]
  },
  {
   "cell_type": "code",
   "execution_count": null,
   "id": "912de318",
   "metadata": {},
   "outputs": [],
   "source": [
    "sample = pd.read_csv('../data/raw/sample_submission.csv')"
   ]
  },
  {
   "cell_type": "code",
   "execution_count": null,
   "id": "39106ff2",
   "metadata": {},
   "outputs": [],
   "source": [
    "# 삭제해야 한다.\n",
    "oof = pd.read_csv('../data/submission/221108_oof.csv')"
   ]
  },
  {
   "cell_type": "markdown",
   "id": "ca9c9432",
   "metadata": {},
   "source": [
    "### Visualize Ensemble Tables"
   ]
  },
  {
   "cell_type": "code",
   "execution_count": 3,
   "id": "4e1d2300",
   "metadata": {
    "scrolled": true
   },
   "outputs": [
    {
     "name": "stderr",
     "output_type": "stream",
     "text": [
      "C:\\Users\\ha\\AppData\\Local\\Temp\\ipykernel_11212\\1306528205.py:1: FutureWarning: Passing 'suffixes' which cause duplicate columns {'target_x'} in the result is deprecated and will raise a MergeError in a future version.\n",
      "  table = pd.merge(lgbm1, lgbm2, on='id').merge(lgbm3, on='id').merge(esm, on='id').merge(tab, on='id')\n"
     ]
    }
   ],
   "source": [
    "table = pd.merge(lgbm1, lgbm2, on='id').merge(lgbm3, on='id').merge(esm, on='id').merge(tab, on='id')"
   ]
  },
  {
   "cell_type": "code",
   "execution_count": 4,
   "id": "7a5e914f",
   "metadata": {
    "scrolled": true
   },
   "outputs": [
    {
     "data": {
      "text/html": [
       "<div>\n",
       "<style scoped>\n",
       "    .dataframe tbody tr th:only-of-type {\n",
       "        vertical-align: middle;\n",
       "    }\n",
       "\n",
       "    .dataframe tbody tr th {\n",
       "        vertical-align: top;\n",
       "    }\n",
       "\n",
       "    .dataframe thead th {\n",
       "        text-align: right;\n",
       "    }\n",
       "</style>\n",
       "<table border=\"1\" class=\"dataframe\">\n",
       "  <thead>\n",
       "    <tr style=\"text-align: right;\">\n",
       "      <th></th>\n",
       "      <th>target_x</th>\n",
       "      <th>target_y</th>\n",
       "      <th>target_x</th>\n",
       "      <th>target_y</th>\n",
       "      <th>target</th>\n",
       "    </tr>\n",
       "  </thead>\n",
       "  <tbody>\n",
       "    <tr>\n",
       "      <th>target_x</th>\n",
       "      <td>1.000000</td>\n",
       "      <td>0.999933</td>\n",
       "      <td>0.999934</td>\n",
       "      <td>0.999898</td>\n",
       "      <td>0.987077</td>\n",
       "    </tr>\n",
       "    <tr>\n",
       "      <th>target_y</th>\n",
       "      <td>0.999933</td>\n",
       "      <td>1.000000</td>\n",
       "      <td>0.999986</td>\n",
       "      <td>0.999956</td>\n",
       "      <td>0.986995</td>\n",
       "    </tr>\n",
       "    <tr>\n",
       "      <th>target_x</th>\n",
       "      <td>0.999934</td>\n",
       "      <td>0.999986</td>\n",
       "      <td>1.000000</td>\n",
       "      <td>0.999974</td>\n",
       "      <td>0.987218</td>\n",
       "    </tr>\n",
       "    <tr>\n",
       "      <th>target_y</th>\n",
       "      <td>0.999898</td>\n",
       "      <td>0.999956</td>\n",
       "      <td>0.999974</td>\n",
       "      <td>1.000000</td>\n",
       "      <td>0.987476</td>\n",
       "    </tr>\n",
       "    <tr>\n",
       "      <th>target</th>\n",
       "      <td>0.987077</td>\n",
       "      <td>0.986995</td>\n",
       "      <td>0.987218</td>\n",
       "      <td>0.987476</td>\n",
       "      <td>1.000000</td>\n",
       "    </tr>\n",
       "  </tbody>\n",
       "</table>\n",
       "</div>"
      ],
      "text/plain": [
       "          target_x  target_y  target_x  target_y    target\n",
       "target_x  1.000000  0.999933  0.999934  0.999898  0.987077\n",
       "target_y  0.999933  1.000000  0.999986  0.999956  0.986995\n",
       "target_x  0.999934  0.999986  1.000000  0.999974  0.987218\n",
       "target_y  0.999898  0.999956  0.999974  1.000000  0.987476\n",
       "target    0.987077  0.986995  0.987218  0.987476  1.000000"
      ]
     },
     "execution_count": 4,
     "metadata": {},
     "output_type": "execute_result"
    }
   ],
   "source": [
    "table.corr()"
   ]
  },
  {
   "cell_type": "code",
   "execution_count": 5,
   "id": "e7a99b0c",
   "metadata": {
    "scrolled": true
   },
   "outputs": [
    {
     "data": {
      "text/html": [
       "<div>\n",
       "<style scoped>\n",
       "    .dataframe tbody tr th:only-of-type {\n",
       "        vertical-align: middle;\n",
       "    }\n",
       "\n",
       "    .dataframe tbody tr th {\n",
       "        vertical-align: top;\n",
       "    }\n",
       "\n",
       "    .dataframe thead th {\n",
       "        text-align: right;\n",
       "    }\n",
       "</style>\n",
       "<table border=\"1\" class=\"dataframe\">\n",
       "  <thead>\n",
       "    <tr style=\"text-align: right;\">\n",
       "      <th></th>\n",
       "      <th>id</th>\n",
       "      <th>target_x</th>\n",
       "      <th>target_y</th>\n",
       "      <th>target_x</th>\n",
       "      <th>target_y</th>\n",
       "      <th>target</th>\n",
       "    </tr>\n",
       "  </thead>\n",
       "  <tbody>\n",
       "    <tr>\n",
       "      <th>0</th>\n",
       "      <td>TEST_000000</td>\n",
       "      <td>26.120744</td>\n",
       "      <td>25.931200</td>\n",
       "      <td>25.924797</td>\n",
       "      <td>25.797834</td>\n",
       "      <td>26.647532</td>\n",
       "    </tr>\n",
       "    <tr>\n",
       "      <th>1</th>\n",
       "      <td>TEST_000001</td>\n",
       "      <td>42.914997</td>\n",
       "      <td>42.935594</td>\n",
       "      <td>42.971584</td>\n",
       "      <td>42.945606</td>\n",
       "      <td>42.933700</td>\n",
       "    </tr>\n",
       "    <tr>\n",
       "      <th>2</th>\n",
       "      <td>TEST_000002</td>\n",
       "      <td>67.641643</td>\n",
       "      <td>67.641884</td>\n",
       "      <td>67.623117</td>\n",
       "      <td>67.729393</td>\n",
       "      <td>63.709880</td>\n",
       "    </tr>\n",
       "    <tr>\n",
       "      <th>3</th>\n",
       "      <td>TEST_000003</td>\n",
       "      <td>37.939307</td>\n",
       "      <td>38.075883</td>\n",
       "      <td>38.083455</td>\n",
       "      <td>38.160481</td>\n",
       "      <td>36.908190</td>\n",
       "    </tr>\n",
       "    <tr>\n",
       "      <th>4</th>\n",
       "      <td>TEST_000004</td>\n",
       "      <td>43.060783</td>\n",
       "      <td>43.069399</td>\n",
       "      <td>43.124464</td>\n",
       "      <td>43.141122</td>\n",
       "      <td>44.189583</td>\n",
       "    </tr>\n",
       "    <tr>\n",
       "      <th>...</th>\n",
       "      <td>...</td>\n",
       "      <td>...</td>\n",
       "      <td>...</td>\n",
       "      <td>...</td>\n",
       "      <td>...</td>\n",
       "      <td>...</td>\n",
       "    </tr>\n",
       "    <tr>\n",
       "      <th>291236</th>\n",
       "      <td>TEST_291236</td>\n",
       "      <td>47.204647</td>\n",
       "      <td>47.164883</td>\n",
       "      <td>47.198434</td>\n",
       "      <td>47.159902</td>\n",
       "      <td>46.769745</td>\n",
       "    </tr>\n",
       "    <tr>\n",
       "      <th>291237</th>\n",
       "      <td>TEST_291237</td>\n",
       "      <td>51.361109</td>\n",
       "      <td>51.157897</td>\n",
       "      <td>51.279216</td>\n",
       "      <td>51.405868</td>\n",
       "      <td>48.743446</td>\n",
       "    </tr>\n",
       "    <tr>\n",
       "      <th>291238</th>\n",
       "      <td>TEST_291238</td>\n",
       "      <td>22.307791</td>\n",
       "      <td>22.366253</td>\n",
       "      <td>22.406386</td>\n",
       "      <td>22.466314</td>\n",
       "      <td>21.148718</td>\n",
       "    </tr>\n",
       "    <tr>\n",
       "      <th>291239</th>\n",
       "      <td>TEST_291239</td>\n",
       "      <td>21.565059</td>\n",
       "      <td>21.888188</td>\n",
       "      <td>21.913790</td>\n",
       "      <td>22.032424</td>\n",
       "      <td>24.254658</td>\n",
       "    </tr>\n",
       "    <tr>\n",
       "      <th>291240</th>\n",
       "      <td>TEST_291240</td>\n",
       "      <td>48.146202</td>\n",
       "      <td>48.215550</td>\n",
       "      <td>48.056494</td>\n",
       "      <td>48.031656</td>\n",
       "      <td>47.465904</td>\n",
       "    </tr>\n",
       "  </tbody>\n",
       "</table>\n",
       "<p>291241 rows × 6 columns</p>\n",
       "</div>"
      ],
      "text/plain": [
       "                 id   target_x   target_y   target_x   target_y     target\n",
       "0       TEST_000000  26.120744  25.931200  25.924797  25.797834  26.647532\n",
       "1       TEST_000001  42.914997  42.935594  42.971584  42.945606  42.933700\n",
       "2       TEST_000002  67.641643  67.641884  67.623117  67.729393  63.709880\n",
       "3       TEST_000003  37.939307  38.075883  38.083455  38.160481  36.908190\n",
       "4       TEST_000004  43.060783  43.069399  43.124464  43.141122  44.189583\n",
       "...             ...        ...        ...        ...        ...        ...\n",
       "291236  TEST_291236  47.204647  47.164883  47.198434  47.159902  46.769745\n",
       "291237  TEST_291237  51.361109  51.157897  51.279216  51.405868  48.743446\n",
       "291238  TEST_291238  22.307791  22.366253  22.406386  22.466314  21.148718\n",
       "291239  TEST_291239  21.565059  21.888188  21.913790  22.032424  24.254658\n",
       "291240  TEST_291240  48.146202  48.215550  48.056494  48.031656  47.465904\n",
       "\n",
       "[291241 rows x 6 columns]"
      ]
     },
     "execution_count": 5,
     "metadata": {},
     "output_type": "execute_result"
    }
   ],
   "source": [
    "table"
   ]
  },
  {
   "cell_type": "markdown",
   "id": "26ff7b74",
   "metadata": {},
   "source": [
    "#### $\\bullet$ Ensemble LGBMS"
   ]
  },
  {
   "cell_type": "code",
   "execution_count": null,
   "id": "0639c7b6",
   "metadata": {},
   "outputs": [],
   "source": [
    "# file_name: 20221113_0944.csv, component: LGBM1-trial4 * 0.5 & LGBM2-trial4 * 0.5\n",
    "# public score:, 3.1082829466, oof_score: 0.47128541210279684"
   ]
  },
  {
   "cell_type": "code",
   "execution_count": null,
   "id": "06f282b4",
   "metadata": {},
   "outputs": [],
   "source": [
    "# file_name: 20221113_.csv, component: LGBM1-trial5 * 0.5 & LGBM2-trial4 * 0.5\n",
    "# public score: - , oof_score: "
   ]
  },
  {
   "cell_type": "code",
   "execution_count": null,
   "id": "74da69bb",
   "metadata": {},
   "outputs": [],
   "source": [
    "sample['target'] = lgbm['target']*0.5 + lgbm['target']*0.5"
   ]
  },
  {
   "cell_type": "code",
   "execution_count": 7,
   "id": "0c085c08",
   "metadata": {},
   "outputs": [
    {
     "data": {
      "text/plain": [
       "1.4963237412053594"
      ]
     },
     "execution_count": 7,
     "metadata": {},
     "output_type": "execute_result"
    }
   ],
   "source": [
    "# 결과확인하기\n",
    "mean_absolute_error(sample['target'],oof['target'])"
   ]
  },
  {
   "cell_type": "markdown",
   "id": "48b9f4dc",
   "metadata": {},
   "source": [
    "#### $\\bullet$ Ensemble LGBM & Tabnet"
   ]
  },
  {
   "cell_type": "code",
   "execution_count": null,
   "id": "877e0af2",
   "metadata": {},
   "outputs": [],
   "source": [
    "# file_name: 20221113_1613.csv, component: LGBM1-trial4 * 0.45 & LGBM2-trial4 * 0.45 & tabnet-trial1 * 0.1\n",
    "# public score: 3.1050840042, oof_score: "
   ]
  },
  {
   "cell_type": "code",
   "execution_count": null,
   "id": "51c245bd",
   "metadata": {},
   "outputs": [],
   "source": [
    "sample['target'] = lgbm4['target']*0.9 + tabnet['target']*0.1"
   ]
  },
  {
   "cell_type": "code",
   "execution_count": 13,
   "id": "a982b1de",
   "metadata": {
    "scrolled": true
   },
   "outputs": [
    {
     "data": {
      "text/plain": [
       "0.4653913068926007"
      ]
     },
     "execution_count": 13,
     "metadata": {},
     "output_type": "execute_result"
    }
   ],
   "source": [
    "# 결과 확인하기\n",
    "mean_absolute_error(sample['target'],oof['target'])"
   ]
  },
  {
   "cell_type": "markdown",
   "id": "4be84a8a",
   "metadata": {},
   "source": [
    "### Save Data"
   ]
  },
  {
   "cell_type": "code",
   "execution_count": 26,
   "id": "6ac41b72",
   "metadata": {},
   "outputs": [],
   "source": [
    "date = str(pd.Timestamp.now())[:16].replace('-','').replace(' ','_').replace(':','')\n",
    "filename = f'./data/submission/{date}'\n",
    "sample.to_csv(f'{filename}.csv', index=False)\n",
    "print(f'{filename} is saved.')"
   ]
  },
  {
   "cell_type": "code",
   "execution_count": null,
   "id": "0b95660d",
   "metadata": {},
   "outputs": [],
   "source": []
  },
  {
   "cell_type": "code",
   "execution_count": null,
   "id": "16a8954d",
   "metadata": {},
   "outputs": [],
   "source": []
  }
 ],
 "metadata": {
  "kernelspec": {
   "display_name": "Python 3 (ipykernel)",
   "language": "python",
   "name": "python3"
  },
  "language_info": {
   "codemirror_mode": {
    "name": "ipython",
    "version": 3
   },
   "file_extension": ".py",
   "mimetype": "text/x-python",
   "name": "python",
   "nbconvert_exporter": "python",
   "pygments_lexer": "ipython3",
   "version": "3.9.12"
  }
 },
 "nbformat": 4,
 "nbformat_minor": 5
}
