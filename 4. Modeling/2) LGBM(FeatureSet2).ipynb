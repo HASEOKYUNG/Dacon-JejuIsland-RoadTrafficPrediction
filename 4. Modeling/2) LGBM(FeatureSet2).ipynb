{
 "cells": [
  {
   "cell_type": "markdown",
   "id": "56313690",
   "metadata": {},
   "source": [
    "## 2) LGBM(FeatureSet2)\n",
    "Feature Set2으로 LGBM을 Tunning해가며 Submission을 생성한다."
   ]
  },
  {
   "cell_type": "markdown",
   "id": "bbcbefea",
   "metadata": {},
   "source": [
    "### Import"
   ]
  },
  {
   "cell_type": "code",
   "execution_count": 1,
   "id": "2617b43c",
   "metadata": {},
   "outputs": [],
   "source": [
    "import numpy as np\n",
    "import pandas as pd\n",
    "import warnings ; warnings.filterwarnings('ignore')\n",
    "\n",
    "# Tunning & Model\n",
    "from lightgbm import LGBMRegressor   \n",
    "from sklearn import model_selection\n",
    "from sklearn.metrics import mean_absolute_error\n",
    "from sklearn.model_selection import StratifiedKFold"
   ]
  },
  {
   "cell_type": "markdown",
   "id": "e456bede",
   "metadata": {},
   "source": [
    "### Read Data"
   ]
  },
  {
   "cell_type": "code",
   "execution_count": 2,
   "id": "0bfba296",
   "metadata": {},
   "outputs": [],
   "source": [
    "# 20221111_2209.csv\n",
    "X_train = pd.read_csv('../data/feature/FeatureSet2_train.csv')\n",
    "X_test = pd.read_csv('../data/feature/FeatureSet2_test.csv')\n",
    "sample = pd.read_csv('../data/raw/sample_submission.csv')"
   ]
  },
  {
   "cell_type": "code",
   "execution_count": null,
   "id": "055d582f",
   "metadata": {},
   "outputs": [],
   "source": [
    "# 삭제해야 한다.\n",
    "oof = pd.read_csv('../data/submission/221108_oof.csv')"
   ]
  },
  {
   "cell_type": "code",
   "execution_count": 3,
   "id": "3df1c6be",
   "metadata": {},
   "outputs": [],
   "source": [
    "del X_train['id'], X_test['id']\n",
    "y_train = X_train['target'] ; del X_train['target']"
   ]
  },
  {
   "cell_type": "markdown",
   "id": "d2118475",
   "metadata": {},
   "source": [
    "### Set Hyper Parameter\n",
    "- Optuna와 BayesianOptimization을 사용해 Tunning하였지만 과적합이 일어났다.\n",
    "- 적정 수준의 Parameter Value에서 변경해 나가며 일반화할 수 있게 조정한다."
   ]
  },
  {
   "cell_type": "code",
   "execution_count": null,
   "id": "00d0692d",
   "metadata": {},
   "outputs": [],
   "source": [
    "# file_name: \n",
    "# val_mae: , public score: -, oof score: 0.5116232017417485\n",
    "trial1 = {'learning_rate': 0.05, 'n_estimators': 1950, 'max_depth': 30, 'num_leaves': 186}"
   ]
  },
  {
   "cell_type": "code",
   "execution_count": null,
   "id": "5c412698",
   "metadata": {},
   "outputs": [],
   "source": [
    "# file_name: \n",
    "# val_mae: , public score: -, oof score: 0.5066494683051737\n",
    "trial2 = {'learning_rate': 0.05, 'n_estimators': 1900, 'max_depth': 30, 'num_leaves': 186}"
   ]
  },
  {
   "cell_type": "code",
   "execution_count": null,
   "id": "aee5a861",
   "metadata": {},
   "outputs": [],
   "source": [
    "# file_name: \n",
    "# val_mae: , public score: -, oof score: 0.5015779133768179\n",
    "trial3 = {'learning_rate': 0.05, 'n_estimators': 1850, 'max_depth': 30, 'num_leaves': 186}"
   ]
  },
  {
   "cell_type": "code",
   "execution_count": null,
   "id": "d572361f",
   "metadata": {},
   "outputs": [],
   "source": [
    "# file_name: 20221113_2204.csv\n",
    "# val_mae: 2.784684447009335, public score: -, oof score: 0.48638793206828146\n",
    "trial4 = {'learning_rate': 0.045, 'n_estimators': 1850, 'max_depth': 30, 'num_leaves': 186}"
   ]
  },
  {
   "cell_type": "markdown",
   "id": "859cf785",
   "metadata": {},
   "source": [
    "### Out of Fold\n",
    "- 과적합을 방지하기 위해 Out of Fold로 submission을 생성한다."
   ]
  },
  {
   "cell_type": "code",
   "execution_count": null,
   "id": "2f6de112",
   "metadata": {},
   "outputs": [],
   "source": [
    "model = LGBMRegressor(**trial4, metrics='mae', random_state=2022)"
   ]
  },
  {
   "cell_type": "code",
   "execution_count": 10,
   "id": "3476d2ad",
   "metadata": {},
   "outputs": [],
   "source": [
    "SKF = StratifiedKFold(n_splits = 10, shuffle = True, random_state = 2022)"
   ]
  },
  {
   "cell_type": "code",
   "execution_count": 11,
   "id": "854ab598",
   "metadata": {},
   "outputs": [
    {
     "name": "stdout",
     "output_type": "stream",
     "text": [
      "LGBMRegressor의 10fold 평균 MAE는 2.7768522170834027\n"
     ]
    }
   ],
   "source": [
    "lgbm_pred = np.zeros(X_test.shape[0])\n",
    "mae_list = []\n",
    "for tr_idx, val_idx in SKF.split(X_train, y_train):\n",
    "    tr_x, tr_y = X_train.iloc[tr_idx], y_train.iloc[tr_idx]\n",
    "    val_x, val_y = X_train.iloc[val_idx], y_train.iloc[val_idx]\n",
    "    \n",
    "    model.fit(tr_x, tr_y)\n",
    "    pred = model.predict(val_x)\n",
    "    mae = mean_absolute_error(val_y, pred)\n",
    "    mae_list.append(mae)\n",
    "    \n",
    "    sub_pred = np.array(model.predict(X_test)) / 10  # averaging\n",
    "    lgbm_pred += sub_pred\n",
    "print(f'{model.__class__.__name__}의 10fold 평균 MAE는 {np.mean(mae_list)}')"
   ]
  },
  {
   "cell_type": "markdown",
   "id": "95d88173",
   "metadata": {},
   "source": [
    "### Submit"
   ]
  },
  {
   "cell_type": "code",
   "execution_count": 12,
   "id": "8128df19",
   "metadata": {},
   "outputs": [],
   "source": [
    "# 사용할 모델로 예측한 뒤 저장한다.\n",
    "sample['target'] = lgbm_pred"
   ]
  },
  {
   "cell_type": "code",
   "execution_count": 13,
   "id": "e1721443",
   "metadata": {},
   "outputs": [
    {
     "data": {
      "text/plain": [
       "0.5406951163445225"
      ]
     },
     "execution_count": 13,
     "metadata": {},
     "output_type": "execute_result"
    }
   ],
   "source": [
    "# 삭제해야 한다.\n",
    "mean_absolute_error(sample['target'],oof['target'])"
   ]
  },
  {
   "cell_type": "code",
   "execution_count": 23,
   "id": "6ac41b72",
   "metadata": {},
   "outputs": [],
   "source": [
    "date = str(pd.Timestamp.now())[:16].replace('-','').replace(' ','_').replace(':','')\n",
    "filename = f'./data/submission/{date}'\n",
    "sample.to_csv(f'{filename}.csv', index=False)\n",
    "print(f'{filename} is saved.')"
   ]
  },
  {
   "cell_type": "code",
   "execution_count": null,
   "id": "0b95660d",
   "metadata": {},
   "outputs": [],
   "source": []
  },
  {
   "cell_type": "code",
   "execution_count": null,
   "id": "5e9e3b71",
   "metadata": {},
   "outputs": [],
   "source": []
  }
 ],
 "metadata": {
  "kernelspec": {
   "display_name": "Python 3 (ipykernel)",
   "language": "python",
   "name": "python3"
  },
  "language_info": {
   "codemirror_mode": {
    "name": "ipython",
    "version": 3
   },
   "file_extension": ".py",
   "mimetype": "text/x-python",
   "name": "python",
   "nbconvert_exporter": "python",
   "pygments_lexer": "ipython3",
   "version": "3.9.12"
  }
 },
 "nbformat": 4,
 "nbformat_minor": 5
}
