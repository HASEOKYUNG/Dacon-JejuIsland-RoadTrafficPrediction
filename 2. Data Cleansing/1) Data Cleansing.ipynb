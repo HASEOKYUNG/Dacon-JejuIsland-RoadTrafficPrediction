{
 "cells": [
  {
   "cell_type": "code",
   "execution_count": null,
   "id": "dc3b46ef",
   "metadata": {},
   "outputs": [],
   "source": [
    "# 해야할 일\n",
    "# 1)중요도가 낮은 Feature라 제거하였음을 나타낼 방법 -> LGBM 사용?"
   ]
  },
  {
   "cell_type": "markdown",
   "id": "e989c646",
   "metadata": {},
   "source": [
    "## 1) Data Cleansing"
   ]
  },
  {
   "cell_type": "markdown",
   "id": "bbcbefea",
   "metadata": {},
   "source": [
    "### Import"
   ]
  },
  {
   "cell_type": "code",
   "execution_count": 1,
   "id": "aed42eab",
   "metadata": {
    "scrolled": true
   },
   "outputs": [],
   "source": [
    "import pandas as pd\n",
    "import warnings ; warnings.filterwarnings('ignore')"
   ]
  },
  {
   "cell_type": "markdown",
   "id": "e456bede",
   "metadata": {},
   "source": [
    "### Read Data"
   ]
  },
  {
   "cell_type": "code",
   "execution_count": 3,
   "id": "0bfba296",
   "metadata": {},
   "outputs": [],
   "source": [
    "train = pd.read_csv('./data/raw/train.csv', parse_dates=['base_date'])\n",
    "test = pd.read_csv('./data/raw/test.csv', parse_dates=['base_date'])"
   ]
  },
  {
   "cell_type": "markdown",
   "id": "8581fab5",
   "metadata": {},
   "source": [
    "### Data Cleansing"
   ]
  },
  {
   "cell_type": "markdown",
   "id": "0fca13aa",
   "metadata": {},
   "source": [
    "#### $\\bullet$ [Drop] categorical variable\n",
    "특정값이 많은 변수는 데이터를 잘 설명하지 못한다. 변수 내 범주빈도를 구한 뒤 가장 큰 범주빈도가 0.95 이상이면 제거한다."
   ]
  },
  {
   "cell_type": "code",
   "execution_count": 4,
   "id": "e18e32d5",
   "metadata": {},
   "outputs": [],
   "source": [
    "category = ['road_rating', 'road_name', 'multi_linked', 'connect_code', 'maximum_speed_limit', 'vehicle_restricted', 'weight_restricted',\n",
    "            'height_restricted', 'road_type', 'start_node_name','start_turn_restricted', 'end_node_name','end_turn_restricted']"
   ]
  },
  {
   "cell_type": "code",
   "execution_count": 5,
   "id": "406307af",
   "metadata": {},
   "outputs": [
    {
     "name": "stdout",
     "output_type": "stream",
     "text": [
      "삭제되는 열은 ['multi_linked' 'connect_code' 'vehicle_restricted' 'height_restricted'] 입니다.\n"
     ]
    }
   ],
   "source": [
    "category_dense = train[category].apply(lambda x: x.value_counts(normalize=True).iloc[0])\n",
    "\n",
    "print(f'삭제되는 열은 {category_dense[category_dense > 0.95].index.values} 입니다.')\n",
    "train.drop(category_dense[category_dense > 0.95].index, axis=1, inplace=True)\n",
    "test.drop(category_dense[category_dense > 0.95].index, axis=1, inplace=True)"
   ]
  },
  {
   "cell_type": "markdown",
   "id": "32247d27",
   "metadata": {},
   "source": [
    "#### $\\bullet$ [Labeling] node name"
   ]
  },
  {
   "cell_type": "code",
   "execution_count": 7,
   "id": "8e5f1a95",
   "metadata": {},
   "outputs": [],
   "source": [
    "label_df = pd.concat([train['start_node_name'].rename('node_name'), train['end_node_name'].rename('node_name')]).drop_duplicates()\\\n",
    "           .reset_index(drop=True).reset_index().rename(columns={'index':'node_label'}).set_index('node_name')\n",
    "\n",
    "for label in pd.concat([test['start_node_name'].rename('node_name'), test['end_node_name'].rename('node_name')]).drop_duplicates():\n",
    "    if label not in label_df.index:\n",
    "        label_df.loc[label] = label_df['node_label'].max() + 1"
   ]
  },
  {
   "cell_type": "code",
   "execution_count": 8,
   "id": "d207306d",
   "metadata": {},
   "outputs": [],
   "source": [
    "train['start_node_label'] = pd.merge(train[['id','start_node_name']], \n",
    "                                     label_df.reset_index().rename(columns={'node_name':'start_node_name'}), \n",
    "                                     on='start_node_name', how='left')['node_label']\n",
    "train['end_node_label'] = pd.merge(train[['id','end_node_name']], \n",
    "                                   label_df.reset_index().rename(columns={'node_name':'end_node_name'}), \n",
    "                                   on='end_node_name', how='left')['node_label']"
   ]
  },
  {
   "cell_type": "code",
   "execution_count": 9,
   "id": "04d5cc00",
   "metadata": {},
   "outputs": [],
   "source": [
    "test['start_node_label'] = pd.merge(test[['id','start_node_name']], \n",
    "                                     label_df.reset_index().rename(columns={'node_name':'start_node_name'}), \n",
    "                                     on='start_node_name', how='left')['node_label']\n",
    "test['end_node_label'] = pd.merge(test[['id','end_node_name']], \n",
    "                                   label_df.reset_index().rename(columns={'node_name':'end_node_name'}), \n",
    "                                   on='end_node_name', how='left')['node_label']"
   ]
  },
  {
   "cell_type": "code",
   "execution_count": 10,
   "id": "9c6c3448",
   "metadata": {},
   "outputs": [],
   "source": [
    "# labeling한 node_name은 제거한다.\n",
    "del train['start_node_name'], train['end_node_name']\n",
    "del test['start_node_name'], test['end_node_name']"
   ]
  },
  {
   "cell_type": "markdown",
   "id": "c31c6d90",
   "metadata": {},
   "source": [
    "#### $\\bullet$ [Labeling] edge\n",
    "- start_node와 end_node 사이를 edge라 칭하고 이를 labeling한 것이다."
   ]
  },
  {
   "cell_type": "code",
   "execution_count": 11,
   "id": "fb4984cd",
   "metadata": {},
   "outputs": [],
   "source": [
    "label_df = train[['start_node_label','end_node_label']].drop_duplicates()\\\n",
    "           .reset_index(drop=True).reset_index().rename(columns={'index':'edge_label'}).set_index(['start_node_label','end_node_label'])\n",
    "\n",
    "for label in test[['start_node_label','end_node_label']].drop_duplicates().values:\n",
    "    if tuple(label) not in label_df.index:\n",
    "        label_df.loc[tuple(label), 'edge_label'] = label_df['edge_label'].max()+1"
   ]
  },
  {
   "cell_type": "code",
   "execution_count": 12,
   "id": "5ec0c283",
   "metadata": {},
   "outputs": [],
   "source": [
    "train['edge_label'] = pd.merge(train[['id','start_node_label','end_node_label']], label_df.reset_index(), \n",
    "                               on=['start_node_label','end_node_label'], how='left')['edge_label']\n",
    "test['edge_label'] = pd.merge(test[['id','start_node_label','end_node_label']], label_df.reset_index(), \n",
    "                               on=['start_node_label','end_node_label'], how='left')['edge_label']"
   ]
  },
  {
   "cell_type": "markdown",
   "id": "907780a4",
   "metadata": {},
   "source": [
    "#### $\\bullet$ [Labeling] coordinate\n",
    "- 출발지점과 도착지점의 좌표를 labeling한 것이다. 이때, 반대방향, 다시 말해 출발지점과 도착지점이 반대되는 label은 음수로 처리한다."
   ]
  },
  {
   "cell_type": "code",
   "execution_count": 13,
   "id": "51d13437",
   "metadata": {},
   "outputs": [],
   "source": [
    "label_df = train[['start_latitude','start_longitude','end_latitude','end_longitude']].drop_duplicates()\\\n",
    "           .reset_index(drop=True).reset_index().rename(columns={'index':'coordinate_label'})\\\n",
    "           .set_index(['start_latitude','start_longitude','end_latitude','end_longitude'])\n",
    "\n",
    "for label in test[['start_latitude','start_longitude','end_latitude','end_longitude']].drop_duplicates().values:\n",
    "    if tuple(label) not in label_df.index:\n",
    "        label_df.loc[tuple(label), 'coordinate_label'] = label_df['coordinate_label'].max()+1  "
   ]
  },
  {
   "cell_type": "code",
   "execution_count": 14,
   "id": "d3e629b7",
   "metadata": {},
   "outputs": [],
   "source": [
    "label_df = label_df.reset_index()\n",
    "\n",
    "# 방향이 반대인 것은 Minus로 labeling한다.\n",
    "for IDX, SLAT, SLON, ELAT, ELON, COOR in label_df.itertuples():\n",
    "    CHANGE = label_df.loc[IDX:].query('(start_latitude==@ELAT) & (start_longitude==@ELON) &\\\n",
    "                                       (end_latitude==@SLAT) & (end_longitude==@SLON)').index\n",
    "    if len(CHANGE)==1:\n",
    "        label_df.iloc[CHANGE, -1] = -1 * COOR"
   ]
  },
  {
   "cell_type": "code",
   "execution_count": 15,
   "id": "a58b06de",
   "metadata": {},
   "outputs": [],
   "source": [
    "train['coor_label'] = pd.merge(train[['id','start_latitude','start_longitude','end_latitude','end_longitude']], label_df, \n",
    "                               on=['start_latitude','start_longitude','end_latitude','end_longitude'], how='left')['coordinate_label']\n",
    "test['coor_label'] = pd.merge(test[['id','start_latitude','start_longitude','end_latitude','end_longitude']], label_df, \n",
    "                              on=['start_latitude','start_longitude','end_latitude','end_longitude'], how='left')['coordinate_label']"
   ]
  },
  {
   "cell_type": "markdown",
   "id": "3cccb3d7",
   "metadata": {},
   "source": [
    "#### $\\bullet$ [Drop] Unuseful Data\n",
    "- 분석에 용이하지 않은 데이터는 메모리 효율을 고려해 제거하는 것이 좋다. Feature Engineering에 사용하지 않을 변수는 제거한다."
   ]
  },
  {
   "cell_type": "code",
   "execution_count": 16,
   "id": "4345e96e",
   "metadata": {},
   "outputs": [],
   "source": [
    "unuse = ['lane_count','weight_restricted']\n",
    "train.drop(unuse, axis=1, inplace=True)\n",
    "test.drop(unuse, axis=1, inplace=True)"
   ]
  },
  {
   "cell_type": "markdown",
   "id": "69379f82",
   "metadata": {},
   "source": [
    "### Save Data"
   ]
  },
  {
   "cell_type": "code",
   "execution_count": 17,
   "id": "9bf7ab73",
   "metadata": {
    "scrolled": true
   },
   "outputs": [],
   "source": [
    "train.to_csv('../data/clean/train.csv', index=False)\n",
    "test.to_csv('../data/clean/test.csv', index=False)"
   ]
  },
  {
   "cell_type": "code",
   "execution_count": null,
   "id": "0b95660d",
   "metadata": {},
   "outputs": [],
   "source": []
  },
  {
   "cell_type": "code",
   "execution_count": null,
   "id": "a6298eec",
   "metadata": {},
   "outputs": [],
   "source": []
  }
 ],
 "metadata": {
  "kernelspec": {
   "display_name": "Python 3 (ipykernel)",
   "language": "python",
   "name": "python3"
  },
  "language_info": {
   "codemirror_mode": {
    "name": "ipython",
    "version": 3
   },
   "file_extension": ".py",
   "mimetype": "text/x-python",
   "name": "python",
   "nbconvert_exporter": "python",
   "pygments_lexer": "ipython3",
   "version": "3.9.12"
  }
 },
 "nbformat": 4,
 "nbformat_minor": 5
}
