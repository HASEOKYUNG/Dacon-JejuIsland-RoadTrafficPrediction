{
 "cells": [
  {
   "cell_type": "markdown",
   "metadata": {
    "id": "uTgi3Sql0vj2"
   },
   "source": [
    "## Import"
   ]
  },
  {
   "cell_type": "code",
   "execution_count": 1,
   "metadata": {
    "id": "f9zP2wJhsdGM"
   },
   "outputs": [],
   "source": [
    "import pandas as pd\n",
    "import numpy as np\n",
    "import matplotlib.pyplot as plt\n",
    "import seaborn as sns\n",
    "plt.rc('font', family='Malgun Gothic')\n",
    "plt.rc('axes', unicode_minus=False)\n",
    "import warnings; warnings.filterwarnings(\"ignore\")"
   ]
  },
  {
   "cell_type": "markdown",
   "metadata": {},
   "source": [
    "## Read Data"
   ]
  },
  {
   "cell_type": "code",
   "execution_count": 2,
   "metadata": {},
   "outputs": [],
   "source": [
    "train = pd.read_csv('../data/train.csv')\n",
    "test = pd.read_csv('../data/test.csv')"
   ]
  },
  {
   "cell_type": "code",
   "execution_count": 3,
   "metadata": {
    "id": "XarGGuruxIq1"
   },
   "outputs": [
    {
     "data": {
      "text/html": [
       "<div>\n",
       "<style scoped>\n",
       "    .dataframe tbody tr th:only-of-type {\n",
       "        vertical-align: middle;\n",
       "    }\n",
       "\n",
       "    .dataframe tbody tr th {\n",
       "        vertical-align: top;\n",
       "    }\n",
       "\n",
       "    .dataframe thead th {\n",
       "        text-align: right;\n",
       "    }\n",
       "</style>\n",
       "<table border=\"1\" class=\"dataframe\">\n",
       "  <thead>\n",
       "    <tr style=\"text-align: right;\">\n",
       "      <th></th>\n",
       "      <th>id</th>\n",
       "      <th>base_date</th>\n",
       "      <th>day_of_week</th>\n",
       "      <th>base_hour</th>\n",
       "      <th>lane_count</th>\n",
       "      <th>road_rating</th>\n",
       "      <th>road_name</th>\n",
       "      <th>multi_linked</th>\n",
       "      <th>connect_code</th>\n",
       "      <th>maximum_speed_limit</th>\n",
       "      <th>...</th>\n",
       "      <th>road_type</th>\n",
       "      <th>start_node_name</th>\n",
       "      <th>start_latitude</th>\n",
       "      <th>start_longitude</th>\n",
       "      <th>start_turn_restricted</th>\n",
       "      <th>end_node_name</th>\n",
       "      <th>end_latitude</th>\n",
       "      <th>end_longitude</th>\n",
       "      <th>end_turn_restricted</th>\n",
       "      <th>target</th>\n",
       "    </tr>\n",
       "  </thead>\n",
       "  <tbody>\n",
       "    <tr>\n",
       "      <th>1952301</th>\n",
       "      <td>TRAIN_1952301</td>\n",
       "      <td>20220320</td>\n",
       "      <td>일</td>\n",
       "      <td>15</td>\n",
       "      <td>1</td>\n",
       "      <td>103</td>\n",
       "      <td>일반국도12호선</td>\n",
       "      <td>0</td>\n",
       "      <td>0</td>\n",
       "      <td>60.0</td>\n",
       "      <td>...</td>\n",
       "      <td>0</td>\n",
       "      <td>함덕입구</td>\n",
       "      <td>33.536816</td>\n",
       "      <td>126.658816</td>\n",
       "      <td>없음</td>\n",
       "      <td>정성빌리지</td>\n",
       "      <td>33.537085</td>\n",
       "      <td>126.665889</td>\n",
       "      <td>없음</td>\n",
       "      <td>30.0</td>\n",
       "    </tr>\n",
       "    <tr>\n",
       "      <th>1252064</th>\n",
       "      <td>TRAIN_1252064</td>\n",
       "      <td>20220506</td>\n",
       "      <td>금</td>\n",
       "      <td>1</td>\n",
       "      <td>1</td>\n",
       "      <td>103</td>\n",
       "      <td>일반국도16호선</td>\n",
       "      <td>0</td>\n",
       "      <td>0</td>\n",
       "      <td>50.0</td>\n",
       "      <td>...</td>\n",
       "      <td>0</td>\n",
       "      <td>양수장</td>\n",
       "      <td>33.361717</td>\n",
       "      <td>126.766958</td>\n",
       "      <td>없음</td>\n",
       "      <td>제2가시교</td>\n",
       "      <td>33.364336</td>\n",
       "      <td>126.769409</td>\n",
       "      <td>없음</td>\n",
       "      <td>67.0</td>\n",
       "    </tr>\n",
       "    <tr>\n",
       "      <th>2121580</th>\n",
       "      <td>TRAIN_2121580</td>\n",
       "      <td>20220103</td>\n",
       "      <td>월</td>\n",
       "      <td>6</td>\n",
       "      <td>1</td>\n",
       "      <td>106</td>\n",
       "      <td>지방도97호선</td>\n",
       "      <td>0</td>\n",
       "      <td>0</td>\n",
       "      <td>60.0</td>\n",
       "      <td>...</td>\n",
       "      <td>3</td>\n",
       "      <td>대원교</td>\n",
       "      <td>33.438329</td>\n",
       "      <td>126.732032</td>\n",
       "      <td>없음</td>\n",
       "      <td>대원교</td>\n",
       "      <td>33.437946</td>\n",
       "      <td>126.732509</td>\n",
       "      <td>없음</td>\n",
       "      <td>56.0</td>\n",
       "    </tr>\n",
       "    <tr>\n",
       "      <th>2556467</th>\n",
       "      <td>TRAIN_2556467</td>\n",
       "      <td>20211205</td>\n",
       "      <td>일</td>\n",
       "      <td>22</td>\n",
       "      <td>2</td>\n",
       "      <td>106</td>\n",
       "      <td>중산간서로</td>\n",
       "      <td>0</td>\n",
       "      <td>0</td>\n",
       "      <td>50.0</td>\n",
       "      <td>...</td>\n",
       "      <td>0</td>\n",
       "      <td>더럭초교차로</td>\n",
       "      <td>33.452396</td>\n",
       "      <td>126.344994</td>\n",
       "      <td>없음</td>\n",
       "      <td>쉬는팡교차로</td>\n",
       "      <td>33.451901</td>\n",
       "      <td>126.341998</td>\n",
       "      <td>없음</td>\n",
       "      <td>37.0</td>\n",
       "    </tr>\n",
       "    <tr>\n",
       "      <th>801217</th>\n",
       "      <td>TRAIN_0801217</td>\n",
       "      <td>20220724</td>\n",
       "      <td>일</td>\n",
       "      <td>22</td>\n",
       "      <td>2</td>\n",
       "      <td>107</td>\n",
       "      <td>태평로</td>\n",
       "      <td>0</td>\n",
       "      <td>0</td>\n",
       "      <td>50.0</td>\n",
       "      <td>...</td>\n",
       "      <td>0</td>\n",
       "      <td>남양리조트</td>\n",
       "      <td>33.246081</td>\n",
       "      <td>126.567204</td>\n",
       "      <td>없음</td>\n",
       "      <td>서울이용원</td>\n",
       "      <td>33.246912</td>\n",
       "      <td>126.568186</td>\n",
       "      <td>없음</td>\n",
       "      <td>19.0</td>\n",
       "    </tr>\n",
       "  </tbody>\n",
       "</table>\n",
       "<p>5 rows × 23 columns</p>\n",
       "</div>"
      ],
      "text/plain": [
       "                    id  base_date day_of_week  base_hour  lane_count  \\\n",
       "1952301  TRAIN_1952301   20220320           일         15           1   \n",
       "1252064  TRAIN_1252064   20220506           금          1           1   \n",
       "2121580  TRAIN_2121580   20220103           월          6           1   \n",
       "2556467  TRAIN_2556467   20211205           일         22           2   \n",
       "801217   TRAIN_0801217   20220724           일         22           2   \n",
       "\n",
       "         road_rating road_name  multi_linked  connect_code  \\\n",
       "1952301          103  일반국도12호선             0             0   \n",
       "1252064          103  일반국도16호선             0             0   \n",
       "2121580          106   지방도97호선             0             0   \n",
       "2556467          106     중산간서로             0             0   \n",
       "801217           107       태평로             0             0   \n",
       "\n",
       "         maximum_speed_limit  ...  road_type  start_node_name  start_latitude  \\\n",
       "1952301                 60.0  ...          0             함덕입구       33.536816   \n",
       "1252064                 50.0  ...          0              양수장       33.361717   \n",
       "2121580                 60.0  ...          3              대원교       33.438329   \n",
       "2556467                 50.0  ...          0           더럭초교차로       33.452396   \n",
       "801217                  50.0  ...          0            남양리조트       33.246081   \n",
       "\n",
       "         start_longitude start_turn_restricted  end_node_name  end_latitude  \\\n",
       "1952301       126.658816                    없음          정성빌리지     33.537085   \n",
       "1252064       126.766958                    없음          제2가시교     33.364336   \n",
       "2121580       126.732032                    없음            대원교     33.437946   \n",
       "2556467       126.344994                    없음         쉬는팡교차로     33.451901   \n",
       "801217        126.567204                    없음          서울이용원     33.246912   \n",
       "\n",
       "        end_longitude end_turn_restricted  target  \n",
       "1952301    126.665889                  없음    30.0  \n",
       "1252064    126.769409                  없음    67.0  \n",
       "2121580    126.732509                  없음    56.0  \n",
       "2556467    126.341998                  없음    37.0  \n",
       "801217     126.568186                  없음    19.0  \n",
       "\n",
       "[5 rows x 23 columns]"
      ]
     },
     "execution_count": 3,
     "metadata": {},
     "output_type": "execute_result"
    }
   ],
   "source": [
    "'''\n",
    "- data_info.csv 확인하기\n",
    "- target: 출발지점에서 도착지점까지 걸리는 평균속도(km/h)\n",
    "'''\n",
    "train.sample(5)"
   ]
  },
  {
   "cell_type": "markdown",
   "metadata": {},
   "source": [
    "## 변수별 특징 추출"
   ]
  },
  {
   "cell_type": "markdown",
   "metadata": {},
   "source": [
    "- base_date"
   ]
  },
  {
   "cell_type": "code",
   "execution_count": 4,
   "metadata": {
    "scrolled": true
   },
   "outputs": [
    {
     "name": "stdout",
     "output_type": "stream",
     "text": [
      "학습 기간: 20210901 ~ 20220731\n",
      "예측 기간: 20220801 ~ 20220831\n"
     ]
    }
   ],
   "source": [
    "print('학습 기간:', train.base_date.min(), '~', train.base_date.max())\n",
    "print('예측 기간:', test.base_date.min(), '~', test.base_date.max())"
   ]
  },
  {
   "cell_type": "markdown",
   "metadata": {},
   "source": [
    "- lane_count"
   ]
  },
  {
   "cell_type": "code",
   "execution_count": 5,
   "metadata": {},
   "outputs": [
    {
     "data": {
      "text/plain": [
       "2    2352092\n",
       "1    1558531\n",
       "3     790594\n",
       "Name: lane_count, dtype: int64"
      ]
     },
     "execution_count": 5,
     "metadata": {},
     "output_type": "execute_result"
    }
   ],
   "source": [
    "# 제주도는 3차선까지만 있을 수 있다.\n",
    "train.lane_count.value_counts()"
   ]
  },
  {
   "cell_type": "markdown",
   "metadata": {},
   "source": [
    "- road_rating"
   ]
  },
  {
   "cell_type": "code",
   "execution_count": 6,
   "metadata": {},
   "outputs": [
    {
     "data": {
      "text/plain": [
       "103    2159511\n",
       "107    1582214\n",
       "106     959492\n",
       "Name: road_rating, dtype: int64"
      ]
     },
     "execution_count": 6,
     "metadata": {},
     "output_type": "execute_result"
    }
   ],
   "source": [
    "# 103, 106, 107은 각각 일반국도, 지방도, 시도*군도를 의미한다.\n",
    "train.road_rating.value_counts()"
   ]
  },
  {
   "cell_type": "markdown",
   "metadata": {},
   "source": [
    "- road_name"
   ]
  },
  {
   "cell_type": "code",
   "execution_count": 7,
   "metadata": {},
   "outputs": [
    {
     "data": {
      "text/plain": [
       "(569463, 23)"
      ]
     },
     "execution_count": 7,
     "metadata": {},
     "output_type": "execute_result"
    }
   ],
   "source": [
    "# road_name에 결측치가 -로 표현되어 있다.\n",
    "train.query('road_name==\"-\"').shape"
   ]
  },
  {
   "cell_type": "markdown",
   "metadata": {},
   "source": [
    "- maximum_speed_limit"
   ]
  },
  {
   "cell_type": "code",
   "execution_count": 8,
   "metadata": {},
   "outputs": [
    {
     "data": {
      "text/plain": [
       "60.0    1665573\n",
       "50.0    1103682\n",
       "70.0     995077\n",
       "80.0     700334\n",
       "30.0     229761\n",
       "40.0       6790\n",
       "Name: maximum_speed_limit, dtype: int64"
      ]
     },
     "execution_count": 8,
     "metadata": {},
     "output_type": "execute_result"
    }
   ],
   "source": [
    "# 속도 제한은 30(어린이보호구역), 50, 60, 70, 80만 있다.\n",
    "train.maximum_speed_limit.value_counts()"
   ]
  },
  {
   "cell_type": "markdown",
   "metadata": {},
   "source": [
    "- `Category variable`"
   ]
  },
  {
   "cell_type": "code",
   "execution_count": 9,
   "metadata": {},
   "outputs": [
    {
     "data": {
      "text/plain": [
       "vehicle_restricted    1\n",
       "height_restricted     1\n",
       "dtype: int64"
      ]
     },
     "execution_count": 9,
     "metadata": {},
     "output_type": "execute_result"
    }
   ],
   "source": [
    "# vehincle_restricted, height_restricted는 1가지 값만 가진다.\n",
    "train[['vehicle_restricted','height_restricted']].apply(pd.Series.nunique)"
   ]
  },
  {
   "cell_type": "code",
   "execution_count": 10,
   "metadata": {
    "scrolled": false
   },
   "outputs": [
    {
     "data": {
      "text/plain": [
       "start_node_name          0.008970\n",
       "end_node_name            0.008990\n",
       "road_name                0.222515\n",
       "road_rating              0.459351\n",
       "road_type                0.794925\n",
       "weight_restricted        0.857836\n",
       "end_turn_restricted      0.901809\n",
       "start_turn_restricted    0.901831\n",
       "connect_code             0.997417\n",
       "multi_linked             0.999524\n",
       "vehicle_restricted       1.000000\n",
       "height_restricted        1.000000\n",
       "dtype: float64"
      ]
     },
     "execution_count": 10,
     "metadata": {},
     "output_type": "execute_result"
    }
   ],
   "source": [
    "# 위의 두 컬럼처럼 범주형 변수이며 특정 범주의 비율이 높은 컬럼을 찾는다.(multi(2), binary(1))\n",
    "category = ['road_rating', 'road_name', 'road_type',  'connect_code','vehicle_restricted', \n",
    "            'weight_restricted','height_restricted', 'start_node_name', 'end_node_name',\n",
    "            'multi_linked', 'start_turn_restricted', 'end_turn_restricted']\n",
    "category_dense = train[category].apply(lambda x: x.value_counts(normalize=True).iloc[0])\n",
    "category_dense.sort_values()"
   ]
  },
  {
   "cell_type": "code",
   "execution_count": 11,
   "metadata": {},
   "outputs": [
    {
     "name": "stdout",
     "output_type": "stream",
     "text": [
      "삭제되는 열은 ['connect_code' 'vehicle_restricted' 'height_restricted' 'multi_linked'] 입니다.\n"
     ]
    }
   ],
   "source": [
    "# [DC] 특정 범주가 95% 이상이면 유의미한 Feature를 생성할 수 없다고 판단하고 제거한다.\n",
    "print(f'삭제되는 열은 {category_dense[category_dense > 0.95].index.values} 입니다.')\n",
    "train.drop(category_dense[category_dense > 0.95].index, axis=1, inplace=True)\n",
    "test.drop(category_dense[category_dense > 0.95].index, axis=1, inplace=True)"
   ]
  },
  {
   "cell_type": "markdown",
   "metadata": {
    "id": "stMa6oPC4E1c"
   },
   "source": [
    "## 변수간 상관관계 분석\n",
    "- target과 maximum_speed_limit은 약한 양의 상관관계를 갖는다.\n",
    "- weight_restricted과도 약한 양의 상관관계를 갖는다."
   ]
  },
  {
   "cell_type": "code",
   "execution_count": 12,
   "metadata": {
    "colab": {
     "base_uri": "https://localhost:8080/",
     "height": 0
    },
    "id": "mKegHyy_AKSr",
    "outputId": "87f167a1-2ce1-40ba-9867-a402a4e9f362"
   },
   "outputs": [
    {
     "data": {
      "image/png": "[encoded data removed]",
      "text/plain": [
       "<Figure size 1008x504 with 2 Axes>"
      ]
     },
     "metadata": {
      "needs_background": "light"
     },
     "output_type": "display_data"
    }
   ],
   "source": [
    "plt.figure(figsize = (14,7))\n",
    "sns.heatmap(train[[i for i in train.columns if i not in category]].corr(), annot = True, \n",
    "            vmin=-1, vmax=1, cmap=sns.diverging_palette(240, 10, as_cmap=True))\n",
    "plt.show()"
   ]
  },
  {
   "cell_type": "code",
   "execution_count": 13,
   "metadata": {
    "colab": {
     "base_uri": "https://localhost:8080/",
     "height": 0
    },
    "id": "sLNbVKuame89",
    "outputId": "63227b80-dddd-4bd8-8399-af4dacf71fc6"
   },
   "outputs": [
    {
     "data": {
      "image/png": "[encoded data removed]",
      "text/plain": [
       "<Figure size 432x288 with 1 Axes>"
      ]
     },
     "metadata": {
      "needs_background": "light"
     },
     "output_type": "display_data"
    }
   ],
   "source": [
    "# 최대 제한 속도에 따라 평균 값의 차이가 다르다.\n",
    "sns.boxplot(data = train, x = \"maximum_speed_limit\", y = \"target\")\n",
    "plt.show()"
   ]
  },
  {
   "cell_type": "code",
   "execution_count": 14,
   "metadata": {
    "colab": {
     "base_uri": "https://localhost:8080/"
    },
    "id": "iGmx2PEgjbyQ",
    "outputId": "7e9955e2-4f8b-4330-f747-758cb4d984c0",
    "scrolled": true
   },
   "outputs": [
    {
     "name": "stdout",
     "output_type": "stream",
     "text": [
      "0시의 평균 속도는 48.74219956148886 km입니다\n",
      "1시의 평균 속도는 49.76329975377427 km입니다\n",
      "2시의 평균 속도는 50.27865841414583 km입니다\n",
      "3시의 평균 속도는 50.54325437032667 km입니다\n",
      "4시의 평균 속도는 49.747525471309984 km입니다\n",
      "5시의 평균 속도는 47.20113952563933 km입니다\n",
      "6시의 평균 속도는 45.549029131339154 km입니다\n",
      "7시의 평균 속도는 43.682268249431075 km입니다\n",
      "8시의 평균 속도는 41.65629226006192 km입니다\n",
      "9시의 평균 속도는 40.87593935527232 km입니다\n",
      "10시의 평균 속도는 40.22223191608988 km입니다\n",
      "11시의 평균 속도는 39.82459295494329 km입니다\n",
      "12시의 평균 속도는 39.83853790485902 km입니다\n",
      "13시의 평균 속도는 39.73147080920405 km입니다\n",
      "14시의 평균 속도는 39.561120915856606 km입니다\n",
      "15시의 평균 속도는 39.35169967512037 km입니다\n",
      "16시의 평균 속도는 39.127929181460516 km입니다\n",
      "17시의 평균 속도는 38.47336318307683 km입니다\n",
      "18시의 평균 속도는 38.2412578313253 km입니다\n",
      "19시의 평균 속도는 40.10411206937628 km입니다\n",
      "20시의 평균 속도는 41.11380627039048 km입니다\n",
      "21시의 평균 속도는 42.17343124493455 km입니다\n",
      "22시의 평균 속도는 43.989861884373646 km입니다\n",
      "23시의 평균 속도는 45.807739281003535 km입니다\n"
     ]
    }
   ],
   "source": [
    "# 새벽 때 속도가 빠르다.\n",
    "for i in range(24):\n",
    "    mean_time = train[train[\"base_hour\"] == i][\"target\"].mean()\n",
    "    print(\"{}시의 평균 속도는 {} km입니다\". format(i, mean_time))"
   ]
  },
  {
   "cell_type": "markdown",
   "metadata": {},
   "source": [
    "## Save Data"
   ]
  },
  {
   "cell_type": "code",
   "execution_count": 15,
   "metadata": {},
   "outputs": [],
   "source": [
    "# 데이터 용량이 커 parquet로 저장한다.\n",
    "train.to_parquet('../data/DC_train.pqt', engine='pyarrow', index=False)\n",
    "test.to_parquet('../data/DC_test.pqt', engine='pyarrow', index=False)"
   ]
  },
  {
   "cell_type": "code",
   "execution_count": null,
   "metadata": {},
   "outputs": [],
   "source": []
  }
 ],
 "metadata": {
  "colab": {
   "collapsed_sections": [
    "N1EoscTvelEm",
    "uTgi3Sql0vj2",
    "dsxoKjvg0zeE",
    "hvSke5qE06Iz",
    "lpeb6I5r1Ifo",
    "bwn3fPkke2BO",
    "qssXInr_2hIY",
    "bfirMUy13e7B",
    "ijrcvqSAQztB",
    "Xmwtze5J3nE5",
    "zeLA7tqp31yU",
    "stMa6oPC4E1c",
    "_NbkU_SLS9zP",
    "C7AG0iuOTXU6",
    "d96Q1NgP7Tbj",
    "P9P81_Dj-PXr",
    "TdHR32g7-Ro6",
    "72dBMb-0KsSt",
    "zIvieDWdK3sT",
    "I-IOk2vFe-Ql",
    "1xv7cGozqRiM",
    "8AhSt7JR_JDt",
    "xLpA6nSjMvOH",
    "ryYOLDt8QxcD",
    "nxuPAEMIi-Bx",
    "0cGj-9dzMyJP",
    "nHgorWRt9qyM",
    "4thrEPPEOCl6"
   ],
   "provenance": []
  },
  "kernelspec": {
   "display_name": "Python 3 (ipykernel)",
   "language": "python",
   "name": "python3"
  },
  "language_info": {
   "codemirror_mode": {
    "name": "ipython",
    "version": 3
   },
   "file_extension": ".py",
   "mimetype": "text/x-python",
   "name": "python",
   "nbconvert_exporter": "python",
   "pygments_lexer": "ipython3",
   "version": "3.9.7"
  }
 },
 "nbformat": 4,
 "nbformat_minor": 1
}
