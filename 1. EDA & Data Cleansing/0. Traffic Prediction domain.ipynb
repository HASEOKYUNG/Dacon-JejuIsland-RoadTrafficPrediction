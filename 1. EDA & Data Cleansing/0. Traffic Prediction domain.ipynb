{
 "cells": [
  {
   "cell_type": "markdown",
   "id": "16ddd96a",
   "metadata": {},
   "source": [
    "### 외부데이터\n",
    "사용에 법적 제약이 없고 누구나 사용할 수 있는 외부 데이터이며 Test시점이 아닌 2022년 8월 이전 데이터만 사용가능하다.\n",
    "- [Jejudatahub] 프로젝트에 담아두었다.\n",
    "- [제주도 도로별 속도] http://www.jejuits.go.kr/road_statistics/road_statisticsView.do\n",
    "  - Target과 유사한 데이터이나 일별 수집해야한다.\n",
    "- [제주도 일일 전력량] https://www.data.go.kr/data/15065239/fileData.do\n",
    "  - 2020 ~ 2022.08까지 일별 시간대 전력량 데이터이다.\n",
    "  - 제주도 내 해당 일 시간대에 머문 인구를 대변할 수 있다.\n",
    "- [제주도 위경도 정보] https://www.data.go.kr/data/15004770/fileData.do\n",
    "  - 2015.12.31.시점 제주도 내 모든 장소의 위경도 좌표를 담은 데이터이다.\n",
    "  - 데이터 내 위경도 좌표로부터 읍면동, 건물정보, 특성 등의 정보를 추출할 수 있다.\n",
    "- [제주도 버스 시간표] http://bus.jeju.go.kr/publicTrafficInformation/generalBusSchedule?viewtype=2\n",
    "  - 정류장 간 소요시간을 산출할 수 있다.\n",
    "  - 노선별로 수집해야 하며 정류장 이름으로 Geocoding해야 한다.\n",
    "- [제주도 사고다발 데이터] https://www.jejudatahub.net/data/view/data/863\n",
    "  - 2017.01.01. ~ 2020.12.31. 동안 동별 사고 발생 데이터이다."
   ]
  },
  {
   "cell_type": "markdown",
   "id": "95f4f343",
   "metadata": {},
   "source": [
    "### 유사대회\n",
    "- [Kaggle] https://www.kaggle.com/code/xown3197/code-traffic\n",
    "   - 유동인구, 강수량, 풍속 등의 변수가 유의미하게 작용할 것이다.\n",
    "   - Test기간을 사용하면 안됨으로 전년동월 데이터를 사용하는 등의 방법을 취해야 한다.\n",
    "- [Kaggle] https://www.kaggle.com/competitions/2021-ai-termproject-19011827\n",
    "   - 기온, 강수량, 7시와 20시 교통량의 변수가 유의미하게 작용할 것이다.\n",
    "   - 수집과 Test기간을 고려해야 한다.\n",
    "- `[Kaggle]` https://www.kaggle.com/code/dowaari/taxi-trip-duration-v1\n",
    "   - 위경도 변환 등 유용한 변수가 많다. 모두 시도해보고 제주특별자치도의 특성에 맞게 다른 방법도 고려해본다."
   ]
  },
  {
   "cell_type": "code",
   "execution_count": null,
   "id": "593a56b1",
   "metadata": {},
   "outputs": [],
   "source": []
  }
 ],
 "metadata": {
  "kernelspec": {
   "display_name": "Python 3 (ipykernel)",
   "language": "python",
   "name": "python3"
  },
  "language_info": {
   "codemirror_mode": {
    "name": "ipython",
    "version": 3
   },
   "file_extension": ".py",
   "mimetype": "text/x-python",
   "name": "python",
   "nbconvert_exporter": "python",
   "pygments_lexer": "ipython3",
   "version": "3.9.7"
  }
 },
 "nbformat": 4,
 "nbformat_minor": 5
}
