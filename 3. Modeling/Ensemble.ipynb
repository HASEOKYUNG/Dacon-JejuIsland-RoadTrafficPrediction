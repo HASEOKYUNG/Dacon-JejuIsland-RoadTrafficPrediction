{
 "cells": [
  {
   "cell_type": "markdown",
   "id": "70feddb8",
   "metadata": {},
   "source": [
    "## Import"
   ]
  },
  {
   "cell_type": "code",
   "execution_count": 1,
   "id": "425fb910",
   "metadata": {},
   "outputs": [],
   "source": [
    "import pandas as pd\n",
    "from sklearn.metrics import mean_absolute_error"
   ]
  },
  {
   "cell_type": "markdown",
   "id": "5973d7fd",
   "metadata": {},
   "source": [
    "## Read Data"
   ]
  },
  {
   "cell_type": "code",
   "execution_count": 2,
   "id": "0dd3b8a5",
   "metadata": {},
   "outputs": [],
   "source": [
    "# ensemble 데이터\n",
    "lgbm1 = pd.read_csv('../data/submission/20221113_2151.csv')\n",
    "lgbm2 = pd.read_csv('../data/submission/20221113_2204.csv')\n",
    "tabnet = pd.read_csv('../data/submission/20221108_1212.csv')"
   ]
  },
  {
   "cell_type": "code",
   "execution_count": null,
   "id": "2b27009a",
   "metadata": {},
   "outputs": [],
   "source": [
    "sample = pd.read_csv('../data/sample_submission.csv')"
   ]
  },
  {
   "cell_type": "markdown",
   "id": "aafe853b",
   "metadata": {},
   "source": [
    "## Ensemble\n",
    "### $\\blacktriangleright$ LGBM1 + LGBM2"
   ]
  },
  {
   "cell_type": "code",
   "execution_count": null,
   "id": "e02bc3ef",
   "metadata": {},
   "outputs": [],
   "source": [
    "# file_name: 20221113_0944.csv, component: LGBM1-trial4 * 0.5 & LGBM2-trial4 * 0.5\n",
    "# public score:, 3.1082829466"
   ]
  },
  {
   "cell_type": "code",
   "execution_count": null,
   "id": "5c5409fd",
   "metadata": {},
   "outputs": [],
   "source": [
    "# file_name: 20221113_0944.csv, component: LGBM1-trial4 * 0.5 & LGBM2-trial4 * 0.5\n",
    "# public score:, 3.122829466"
   ]
  },
  {
   "cell_type": "code",
   "execution_count": null,
   "id": "73fa343a",
   "metadata": {},
   "outputs": [],
   "source": [
    "# file_name: - , component: LGBM1-trial5 * 0.5 & LGBM2-trial4 * 0.5\n",
    "# public score: -"
   ]
  },
  {
   "cell_type": "code",
   "execution_count": null,
   "id": "eaefaf6f",
   "metadata": {},
   "outputs": [],
   "source": [
    "# file_name: 20221113_.csv, component: LGBM1-trial5 * 0.5 & LGBM2-trial4 * 0.5\n",
    "# public score: - "
   ]
  },
  {
   "cell_type": "code",
   "execution_count": null,
   "id": "67a47621",
   "metadata": {},
   "outputs": [],
   "source": [
    "sample['target'] = lgbm['target']*0.5 + lgbm['target']*0.5"
   ]
  },
  {
   "cell_type": "markdown",
   "id": "6077a90f",
   "metadata": {},
   "source": [
    "### $\\blacktriangleright$ LGBMs & Tabnet"
   ]
  },
  {
   "cell_type": "markdown",
   "id": "5b98f4bd",
   "metadata": {},
   "source": [
    "- 산술평균"
   ]
  },
  {
   "cell_type": "code",
   "execution_count": null,
   "id": "49469837",
   "metadata": {},
   "outputs": [],
   "source": [
    "# file_name: 20221113_1613.csv, component: LGBM1-trial4 * 0.45 & LGBM2-trial4 * 0.45 & tabnet-trial1 * 0.1\n",
    "# public score: 3.1050840042"
   ]
  },
  {
   "cell_type": "code",
   "execution_count": null,
   "id": "770c7c2f",
   "metadata": {},
   "outputs": [],
   "source": [
    "# file_name: , component: LGBM1-trial5 * 0.45 & LGBM2-trial4 * 0.45 & tabnet-trial1 * 0.1\n",
    "# public score: -"
   ]
  },
  {
   "cell_type": "code",
   "execution_count": null,
   "id": "62043ba1",
   "metadata": {},
   "outputs": [],
   "source": [
    "# file_name: , component: LGBM1-trial5 * (0.85/2) & LGBM2-trial4 * (0.85/2) & tabnet-trial1 * 0.15\n",
    "# public score: -"
   ]
  },
  {
   "cell_type": "code",
   "execution_count": null,
   "id": "f422ae79",
   "metadata": {},
   "outputs": [],
   "source": [
    "# file_name: , component: LGBM1-trial5 * 0.4 & LGBM2-trial4 * 0.4 & tabnet-trial1 * 0.2\n",
    "# public score: -"
   ]
  },
  {
   "cell_type": "markdown",
   "id": "eb7f3055",
   "metadata": {},
   "source": [
    "- 기하평균"
   ]
  },
  {
   "cell_type": "code",
   "execution_count": null,
   "id": "7cfb128d",
   "metadata": {},
   "outputs": [],
   "source": [
    "# file_name: , component: gmean(LGBM1-trial5 & LGBM2-trial4) * 0.9 & tabnet-trial1 * 0.1\n",
    "# public score: -"
   ]
  },
  {
   "cell_type": "code",
   "execution_count": null,
   "id": "6ff4d47a",
   "metadata": {},
   "outputs": [],
   "source": [
    "# file_name: , component: gmean(LGBM1-trial5 & LGBM2-trial4) * 0.85 & tabnet-trial1 * 0.15\n",
    "# public score: -"
   ]
  },
  {
   "cell_type": "code",
   "execution_count": 38,
   "id": "e17b5bc0",
   "metadata": {},
   "outputs": [],
   "source": [
    "ease = pd.merge(lgbm1, lgbm2, on='id',how='left')\n",
    "ease.set_index('id',inplace=True)\n",
    "ease['target'] = gmean(ease, axis=1)\n",
    "ease.reset_index(inplace=True)\n",
    "\n",
    "sample['target'] = ease['target']*0.4 + tabnet['target']*0.6"
   ]
  },
  {
   "cell_type": "markdown",
   "id": "b562c5e0",
   "metadata": {},
   "source": [
    "### Save Data"
   ]
  },
  {
   "cell_type": "code",
   "execution_count": 26,
   "id": "c4c2b690",
   "metadata": {},
   "outputs": [],
   "source": [
    "date = str(pd.Timestamp.now())[:16].replace('-','').replace(' ','_').replace(':','')\n",
    "filename = f'./data/submission/{date}'\n",
    "sample.to_csv(f'{filename}.csv', index=False)\n",
    "print(f'{filename} is saved.')"
   ]
  },
  {
   "cell_type": "code",
   "execution_count": null,
   "id": "b6eac26f",
   "metadata": {},
   "outputs": [],
   "source": []
  }
 ],
 "metadata": {
  "kernelspec": {
   "display_name": "Python 3 (ipykernel)",
   "language": "python",
   "name": "python3"
  },
  "language_info": {
   "codemirror_mode": {
    "name": "ipython",
    "version": 3
   },
   "file_extension": ".py",
   "mimetype": "text/x-python",
   "name": "python",
   "nbconvert_exporter": "python",
   "pygments_lexer": "ipython3",
   "version": "3.9.7"
  }
 },
 "nbformat": 4,
 "nbformat_minor": 5
}
