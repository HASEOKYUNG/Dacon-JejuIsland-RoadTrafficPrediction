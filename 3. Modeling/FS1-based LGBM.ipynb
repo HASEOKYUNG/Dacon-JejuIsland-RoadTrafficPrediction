{
 "cells": [
  {
   "cell_type": "markdown",
   "id": "bbcbefea",
   "metadata": {},
   "source": [
    "### Import"
   ]
  },
  {
   "cell_type": "code",
   "execution_count": 1,
   "id": "2617b43c",
   "metadata": {},
   "outputs": [],
   "source": [
    "import numpy as np\n",
    "import pandas as pd\n",
    "import warnings ; warnings.filterwarnings('ignore')\n",
    "\n",
    "# Tunning & Model\n",
    "from lightgbm import LGBMRegressor   \n",
    "from sklearn import model_selection\n",
    "from sklearn.metrics import mean_absolute_error\n",
    "from sklearn.model_selection import StratifiedKFold"
   ]
  },
  {
   "cell_type": "markdown",
   "id": "e456bede",
   "metadata": {},
   "source": [
    "### Read Data"
   ]
  },
  {
   "cell_type": "code",
   "execution_count": 2,
   "id": "0bfba296",
   "metadata": {},
   "outputs": [],
   "source": [
    "X_train = pd.read_csv('../data/FS1_train.csv')\n",
    "X_test = pd.read_csv('../data/FS1_test.csv')\n",
    "sample = pd.read_csv('../data/submission/sample_submission.csv')"
   ]
  },
  {
   "cell_type": "code",
   "execution_count": 3,
   "id": "3df1c6be",
   "metadata": {},
   "outputs": [],
   "source": [
    "del X_train['id'], X_test['id']\n",
    "y_train = X_train['target'] ; del X_train['target']"
   ]
  },
  {
   "cell_type": "markdown",
   "id": "d2118475",
   "metadata": {},
   "source": [
    "### Set Hyper Parameter\n",
    "- Optuna와 BayesianOptimization을 사용해 Tunning하였지만 과적합이 일어났다.\n",
    "- 적정 수준의 Parameter Value에서 변경해 나가며 일반화할 수 있게 조정한다."
   ]
  },
  {
   "cell_type": "code",
   "execution_count": null,
   "id": "09298476",
   "metadata": {},
   "outputs": [],
   "source": [
    "# file_name: 20221110_0916.csv\n",
    "# val_mae: , public score: 3.1142610395, oof score: 0.4965870291789201\n",
    "trial1 = {'learning_rate': 0.0517 , 'n_estimators': 2913, 'max_depth': 35, 'num_leaves': 144}"
   ]
  },
  {
   "cell_type": "code",
   "execution_count": null,
   "id": "9786fc1e",
   "metadata": {},
   "outputs": [],
   "source": [
    "# file_name:\n",
    "# val_mae:, public score: - , oof score: 0.4530869192696806\n",
    "trial2 = {'learning_rate': 0.05 , 'n_estimators': 2400, 'max_depth': 35, 'num_leaves': 144}"
   ]
  },
  {
   "cell_type": "code",
   "execution_count": null,
   "id": "ac21b1d3",
   "metadata": {},
   "outputs": [],
   "source": [
    "# file_name:\n",
    "# val_mae:, public score: - , oof score: 0.44595349754134034\n",
    "trial3 = {'learning_rate': 0.045 , 'n_estimators': 2400, 'max_depth': 35, 'num_leaves': 155}"
   ]
  },
  {
   "cell_type": "code",
   "execution_count": null,
   "id": "0257f518",
   "metadata": {},
   "outputs": [],
   "source": [
    "# file_name: 20221113_0944_1.csv\n",
    "# val_mae: 2.8113549463504324, public score: -, oof score: 0.48441562405644567\n",
    "trial4 = {'learning_rate': 0.05 , 'n_estimators': 2400, 'max_depth': 35, 'num_leaves': 170}"
   ]
  },
  {
   "cell_type": "code",
   "execution_count": null,
   "id": "5abd1e6d",
   "metadata": {},
   "outputs": [],
   "source": [
    "# file_name: 20221113_2151.csv\n",
    "# val_mae: 2.8138894943748114, public score: - , oof score: 0.4651534994968449\n",
    "trial5 = {'learning_rate': 0.05 , 'n_estimators': 2400, 'max_depth': 35, 'num_leaves': 155}"
   ]
  },
  {
   "cell_type": "markdown",
   "id": "859cf785",
   "metadata": {},
   "source": [
    "### Out of Fold\n",
    "- 과적합을 방지하기 위해 Out of Fold로 submission을 생성한다."
   ]
  },
  {
   "cell_type": "code",
   "execution_count": null,
   "id": "2f6de112",
   "metadata": {},
   "outputs": [],
   "source": [
    "model = LGBMRegressor(**trial2, metrics='mae', random_state=2022)"
   ]
  },
  {
   "cell_type": "code",
   "execution_count": 16,
   "id": "3476d2ad",
   "metadata": {},
   "outputs": [],
   "source": [
    "SKF = StratifiedKFold(n_splits = 10, shuffle = True, random_state = 2022)"
   ]
  },
  {
   "cell_type": "code",
   "execution_count": 17,
   "id": "854ab598",
   "metadata": {},
   "outputs": [
    {
     "name": "stdout",
     "output_type": "stream",
     "text": [
      "LGBMRegressor의 10fold 평균 MAE는 2.80771437557556\n"
     ]
    }
   ],
   "source": [
    "lgbm_pred = np.zeros(X_test.shape[0])\n",
    "mae_list = []\n",
    "for tr_idx, val_idx in SKF.split(X_train, y_train):\n",
    "    tr_x, tr_y = X_train.iloc[tr_idx], y_train.iloc[tr_idx]\n",
    "    val_x, val_y = X_train.iloc[val_idx], y_train.iloc[val_idx]\n",
    "    \n",
    "    model.fit(tr_x, tr_y)\n",
    "    pred = model.predict(val_x)\n",
    "    mae = mean_absolute_error(val_y, pred)\n",
    "    mae_list.append(mae)\n",
    "    \n",
    "    sub_pred = np.array(model.predict(X_test)) / 10  # averaging\n",
    "    lgbm_pred += sub_pred\n",
    "print(f'{model.__class__.__name__}의 10fold 평균 MAE는 {np.mean(mae_list)}')"
   ]
  },
  {
   "cell_type": "markdown",
   "id": "95d88173",
   "metadata": {},
   "source": [
    "### Submit"
   ]
  },
  {
   "cell_type": "code",
   "execution_count": 18,
   "id": "8128df19",
   "metadata": {},
   "outputs": [],
   "source": [
    "# 사용할 모델로 예측한 뒤 저장한다.\n",
    "sample['target'] = lgbm_pred"
   ]
  },
  {
   "cell_type": "code",
   "execution_count": null,
   "id": "0b95660d",
   "metadata": {},
   "outputs": [],
   "source": [
    "date = str(pd.Timestamp.now())[:16].replace('-','').replace(' ','_').replace(':','')\n",
    "filename = f'./data/submission/{date}'\n",
    "sample.to_csv(f'{filename}.csv', index=False)\n",
    "print(f'{filename} is saved.')"
   ]
  },
  {
   "cell_type": "code",
   "execution_count": null,
   "id": "5e9e3b71",
   "metadata": {},
   "outputs": [],
   "source": []
  }
 ],
 "metadata": {
  "kernelspec": {
   "display_name": "Python 3 (ipykernel)",
   "language": "python",
   "name": "python3"
  },
  "language_info": {
   "codemirror_mode": {
    "name": "ipython",
    "version": 3
   },
   "file_extension": ".py",
   "mimetype": "text/x-python",
   "name": "python",
   "nbconvert_exporter": "python",
   "pygments_lexer": "ipython3",
   "version": "3.9.7"
  }
 },
 "nbformat": 4,
 "nbformat_minor": 5
}
