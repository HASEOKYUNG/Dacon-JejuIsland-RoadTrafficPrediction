{
 "cells": [
  {
   "cell_type": "markdown",
   "id": "a6a0b0c6",
   "metadata": {},
   "source": [
    "## 1) Feature Generation\n",
    "학습 기간을 20220615 이후로 지정한 뒤 사용할 Feature를 생성한다."
   ]
  },
  {
   "cell_type": "markdown",
   "id": "bbcbefea",
   "metadata": {},
   "source": [
    "### Import"
   ]
  },
  {
   "cell_type": "code",
   "execution_count": 1,
   "id": "aed42eab",
   "metadata": {
    "scrolled": true
   },
   "outputs": [],
   "source": [
    "import numpy as np\n",
    "import pandas as pd\n",
    "\n",
    "# Feature Generate\n",
    "from haversine import haversine \n",
    "from sklearn.decomposition import PCA\n",
    "\n",
    "# ignore warnings\n",
    "import warnings ; warnings.filterwarnings('ignore')"
   ]
  },
  {
   "cell_type": "markdown",
   "id": "e456bede",
   "metadata": {},
   "source": [
    "### Read Data"
   ]
  },
  {
   "cell_type": "code",
   "execution_count": 2,
   "id": "0bfba296",
   "metadata": {},
   "outputs": [],
   "source": [
    "train = pd.read_csv('../data/clean/train.csv', parse_dates=['base_date'])\n",
    "test = pd.read_csv('../data/clean/test.csv', parse_dates=['base_date'])"
   ]
  },
  {
   "cell_type": "code",
   "execution_count": 20,
   "id": "4c487fee",
   "metadata": {},
   "outputs": [],
   "source": [
    "# train의 기간을 조정한다.\n",
    "train = train.query('base_date >= \"2022-06-15\"')"
   ]
  },
  {
   "cell_type": "markdown",
   "id": "f7c4f437",
   "metadata": {},
   "source": [
    "### Feature Generation"
   ]
  },
  {
   "cell_type": "code",
   "execution_count": 21,
   "id": "54731de8",
   "metadata": {},
   "outputs": [],
   "source": [
    "feature_train, feature_test = train.copy(), test.copy()"
   ]
  },
  {
   "cell_type": "markdown",
   "id": "aab495a0",
   "metadata": {},
   "source": [
    "#### $\\bullet$ 월"
   ]
  },
  {
   "cell_type": "code",
   "execution_count": 22,
   "id": "e02e2367",
   "metadata": {},
   "outputs": [],
   "source": [
    "feature_train['base_month'] = train['base_date'].dt.month\n",
    "feature_test['base_month'] = test['base_date'].dt.month"
   ]
  },
  {
   "cell_type": "markdown",
   "id": "8c3de301",
   "metadata": {},
   "source": [
    "#### $\\bullet$ 좌표계 PCA\n",
    "- 출발지점의 좌표, 도착지점의 좌표 내 위도간, 경도간 상관관계가 매우 높음을 확인하였다. PCA를 사용해 축소하고자 한다."
   ]
  },
  {
   "cell_type": "code",
   "execution_count": null,
   "id": "39a1eb36",
   "metadata": {},
   "outputs": [],
   "source": [
    "# 방법 1) 위도, 경도끼리 PCA 한다.\n",
    "lat_pca = PCA(n_components=1, random_state=2022).fit(train[['start_latitude','end_latitude']].values)\n",
    "long_pca = PCA(n_components=1, random_state=2022).fit(train[['start_longitude','end_longitude']].values)\n",
    "\n",
    "feature_train['pca_lat'] = lat_pca.transform(train[['start_latitude','end_latitude']].values)\n",
    "feature_train['pca_long'] = long_pca.transform(train[['start_longitude','end_longitude']].values)\n",
    "feature_test['pca_lat'] = lat_pca.transform(test[['start_latitude','end_latitude']].values)\n",
    "feature_test['pca_long'] = long_pca.transform(test[['start_longitude','end_longitude']].values)"
   ]
  },
  {
   "cell_type": "code",
   "execution_count": null,
   "id": "857b70dc",
   "metadata": {},
   "outputs": [],
   "source": [
    "# 방법 2) 출발지점, 도착지점의 좌표를 모두 넣고 PCA의 설명력을 바탕으로 2차원 PCA 한다.\n",
    "pca = PCA(n_components=2, random_state=2022).fit(train[['start_latitude','start_longitude','end_latitude','end_longitude']].values)\n",
    "\n",
    "feature_train[['pca1','pca2']] = pca.transform(train[['start_latitude','start_longitude','end_latitude','end_longitude']].values)\n",
    "feature_test[['pca1','pca2']] = pca.transform(test[['start_latitude','start_longitude','end_latitude','end_longitude']].values)"
   ]
  },
  {
   "cell_type": "markdown",
   "id": "d79a455b",
   "metadata": {},
   "source": [
    "#### $\\bullet$ 하버사인 거리, 방위각\n",
    "- 하버사인 거리는 구 위의 두 점 사이 거리를 구하는 방법이다.\n",
    "- 방위각은 한 점의 x축으로부터 다른 점 사이의 각도를 의미하며 방위각 함수(bearing)은 아래의 주소를 참고해 구현하였다.<br>\n",
    "   [bearing] https://www.movable-type.co.uk/scripts/latlong.html"
   ]
  },
  {
   "cell_type": "code",
   "execution_count": null,
   "id": "f7acdc74",
   "metadata": {},
   "outputs": [],
   "source": [
    "feature_train['harversine'] = [haversine((LAT1,LONG1),(LAT2,LONG2), unit='m') \n",
    "                               for _,LAT1,LONG1,LAT2,LONG2 in train[['start_latitude','start_longitude','end_latitude','end_longitude']].itertuples()]\n",
    "feature_test['harversine'] = [haversine((LAT1,LONG1),(LAT2,LONG2), unit='m') \n",
    "                              for _,LAT1,LONG1,LAT2,LONG2 in test[['start_latitude','start_longitude','end_latitude','end_longitude']].itertuples()]"
   ]
  },
  {
   "cell_type": "code",
   "execution_count": 25,
   "id": "59ff1bf3",
   "metadata": {},
   "outputs": [],
   "source": [
    "def bearing(LAT1, LAT2, LONG1, LONG2):\n",
    "    lat1, lat2, d_long = map(np.radians, (LAT1, LAT2, LONG2-LONG1))\n",
    "    y = np.sin(d_long) * np.cos(lat2)\n",
    "    x = np.cos(lat1) * np.sin(lat2) - np.sin(lat1) * np.cos(lat2) * np.cos(d_long)\n",
    "    return np.degrees(np.arctan2(y,x))"
   ]
  },
  {
   "cell_type": "code",
   "execution_count": 26,
   "id": "ba18fd93",
   "metadata": {},
   "outputs": [],
   "source": [
    "feature_train['bearing'] = bearing(train['start_latitude'],train['end_latitude'], train['start_longitude'],train['end_longitude'])\n",
    "feature_test['bearing'] = bearing(test['start_latitude'],test['end_latitude'], test['start_longitude'],test['end_longitude'])"
   ]
  },
  {
   "cell_type": "markdown",
   "id": "c7bb98d2",
   "metadata": {},
   "source": [
    "#### $\\bullet$ Target Mean\n",
    "-  Target Mean은 범주형 변수의 범주별 target 평균을 산출한다. 흔히 알고있는 Target Encoding과 동일하나 Feature로서 사용한다."
   ]
  },
  {
   "cell_type": "code",
   "execution_count": 27,
   "id": "8dd68d9c",
   "metadata": {},
   "outputs": [],
   "source": [
    "def targetmean_simple(SIMPLE):\n",
    "    mean_df = train.groupby(SIMPLE)['target'].agg('mean')\n",
    "    \n",
    "    for label in np.unique(test[SIMPLE]):\n",
    "        if label not in mean_df.index:\n",
    "            # test에 train에 없는 범주가 나온다면 train.target.mean으로 채운다.\n",
    "            mean_df.loc[label] = train['target'].mean()\n",
    "    return mean_df"
   ]
  },
  {
   "cell_type": "code",
   "execution_count": 27,
   "id": "d873a243",
   "metadata": {},
   "outputs": [],
   "source": [
    "mean_df = targetmean_simple('road_name')\n",
    "feature_train['rn_target'] = feature_train['road_name'].map(mean_df)\n",
    "feature_test['rn_target'] = feature_test['road_name'].map(mean_df)"
   ]
  },
  {
   "cell_type": "code",
   "execution_count": null,
   "id": "e2cc0213",
   "metadata": {},
   "outputs": [],
   "source": [
    "mean_df = targetmean_simple('road_rating')\n",
    "feature_train['rr_target'] = feature_train['road_rating'].map(mean_df)\n",
    "feature_test['rr_target'] = feature_test['road_rating'].map(mean_df)"
   ]
  },
  {
   "cell_type": "code",
   "execution_count": 28,
   "id": "0d3ec69c",
   "metadata": {},
   "outputs": [],
   "source": [
    "mean_df = targetmean_simple('base_hour')\n",
    "feature_train['hour_target'] = feature_train['base_hour'].map(mean_df)\n",
    "feature_test['hour_target'] = feature_test['base_hour'].map(mean_df)"
   ]
  },
  {
   "cell_type": "code",
   "execution_count": null,
   "id": "c64aac16",
   "metadata": {},
   "outputs": [],
   "source": [
    "mean_df = targetmean_simple('day_of_week')\n",
    "feature_train['dow_target'] = feature_train['day_of_week'].map(mean_df)\n",
    "feature_test['dow_target'] = feature_test['day_of_week'].map(mean_df)"
   ]
  },
  {
   "cell_type": "code",
   "execution_count": 29,
   "id": "e9190061",
   "metadata": {},
   "outputs": [],
   "source": [
    "mean_df = targetmean_simple('maximum_speed_limit')\n",
    "feature_train['msl_target'] = feature_train['maximum_speed_limit'].map(mean_df)\n",
    "feature_test['msl_target'] = feature_test['maximum_speed_limit'].map(mean_df)"
   ]
  },
  {
   "cell_type": "code",
   "execution_count": 30,
   "id": "c9af4f10",
   "metadata": {},
   "outputs": [],
   "source": [
    "mean_df = targetmean_simple('start_node_label')\n",
    "feature_train['start_node_target'] = feature_train['start_node_label'].map(mean_df)\n",
    "feature_test['start_node_target'] = feature_test['start_node_label'].map(mean_df)"
   ]
  },
  {
   "cell_type": "code",
   "execution_count": null,
   "id": "a76836bc",
   "metadata": {},
   "outputs": [],
   "source": [
    "mean_df = targetmean_simple('end_node_label')\n",
    "feature_train['end_node_target'] = feature_train['end_node_label'].map(mean_df)\n",
    "feature_test['end_node_target'] = feature_test['end_node_label'].map(mean_df)"
   ]
  },
  {
   "cell_type": "code",
   "execution_count": null,
   "id": "918a3ec6",
   "metadata": {},
   "outputs": [],
   "source": [
    "mean_df = targetmean_simple('edge_label')\n",
    "feature_train['edge_target'] = feature_train['edge_label'].map(mean_df)\n",
    "feature_test['edge_target'] = feature_test['edge_label'].map(mean_df)"
   ]
  },
  {
   "cell_type": "code",
   "execution_count": 31,
   "id": "e26d9eb5",
   "metadata": {},
   "outputs": [],
   "source": [
    "mean_df = targetmean_simple('coor_label')\n",
    "feature_train['coor_target'] = feature_train['coor_label'].map(mean_df)\n",
    "feature_test['coor_target'] = feature_test['coor_label'].map(mean_df)"
   ]
  },
  {
   "cell_type": "markdown",
   "id": "23f0a7e6",
   "metadata": {},
   "source": [
    "#### $\\bullet$ Target Std\n",
    "- 에서 교통평균속도의 표준편차는 유의한 변수라 밝혔다. 범주형 변수의 범주별 target 표준편차를 산출한다."
   ]
  },
  {
   "cell_type": "code",
   "execution_count": 30,
   "id": "44f4bc90",
   "metadata": {},
   "outputs": [],
   "source": [
    "def std_simple(SIMPLE):\n",
    "    std_df = train.groupby(SIMPLE)['target'].agg('std')\n",
    "    \n",
    "    for label in np.unique(test[SIMPLE]):\n",
    "        if label not in std_df.index:\n",
    "            # test에 train에 없는 범주가 나온다면 train.target.std으로 채운다.\n",
    "            std_df.loc[label] = train['target'].std()\n",
    "    return std_df"
   ]
  },
  {
   "cell_type": "code",
   "execution_count": 31,
   "id": "71193784",
   "metadata": {},
   "outputs": [],
   "source": [
    "std_df = std_simple('base_hour')\n",
    "feature_train['hour_std'] = feature_train['base_hour'].map(std_df)\n",
    "feature_test['hour_std'] = feature_test['base_hour'].map(std_df)"
   ]
  },
  {
   "cell_type": "code",
   "execution_count": 33,
   "id": "ba46ca77",
   "metadata": {},
   "outputs": [],
   "source": [
    "std_df = std_simple('day_of_week')\n",
    "feature_train['dow_std'] = feature_train['day_of_week'].map(std_df)\n",
    "feature_test['dow_std'] = feature_test['day_of_week'].map(std_df)"
   ]
  },
  {
   "cell_type": "code",
   "execution_count": 34,
   "id": "bfa75c47",
   "metadata": {},
   "outputs": [],
   "source": [
    "std_df = std_simple('road_rating')\n",
    "feature_train['rr_std'] = feature_train['road_rating'].map(std_df)\n",
    "feature_test['rr_std'] = feature_test['road_rating'].map(std_df)"
   ]
  },
  {
   "cell_type": "code",
   "execution_count": 35,
   "id": "7275561c",
   "metadata": {},
   "outputs": [],
   "source": [
    "std_df = std_simple('coor_label')\n",
    "feature_train['coor_std'] = feature_train['coor_label'].map(std_df)\n",
    "feature_test['coor_std'] = feature_test['coor_label'].map(std_df)"
   ]
  },
  {
   "cell_type": "markdown",
   "id": "4945efc6",
   "metadata": {},
   "source": [
    "#### $\\bullet$ Frequency\n",
    "- 범주형 변수의 범주별 빈도는 교통량으로 해석할 수 있다. 그러나, **sampling**된 데이터로 의도와 다를 수 있다. "
   ]
  },
  {
   "cell_type": "code",
   "execution_count": null,
   "id": "2c46cd25",
   "metadata": {},
   "outputs": [],
   "source": [
    "def frequency_simple(SIMPLE):\n",
    "    fre_df = train.groupby(SIMPLE)['target'].agg('size')\n",
    "    \n",
    "    for label in np.unique(test[SIMPLE]):\n",
    "        if label not in fre_df.index:\n",
    "            fre_df.loc[label] = fre_df.mean()\n",
    "    return fre_df"
   ]
  },
  {
   "cell_type": "code",
   "execution_count": null,
   "id": "b1c00070",
   "metadata": {},
   "outputs": [],
   "source": [
    "fre_df = frequency_simple('end_node_label')\n",
    "feature_train['end_frequency'] = feature_train['end_node_label'].map(fre_df)\n",
    "feature_test['end_frequency'] = feature_test['end_node_label'].map(fre_df)"
   ]
  },
  {
   "cell_type": "code",
   "execution_count": null,
   "id": "7c2fb22d",
   "metadata": {},
   "outputs": [],
   "source": [
    "fre_df = frequency_simple('edge_label')\n",
    "feature_train['edge_frequency'] = feature_train['edge_label'].map(fre_df)\n",
    "feature_test['edge_frequency'] = feature_test['edge_label'].map(fre_df)"
   ]
  },
  {
   "cell_type": "markdown",
   "id": "625413d3",
   "metadata": {},
   "source": [
    "### Save Data"
   ]
  },
  {
   "cell_type": "code",
   "execution_count": null,
   "id": "2ac9e37a",
   "metadata": {},
   "outputs": [],
   "source": [
    "feature_train.to_csv('../data/feature/feature_train.csv', index=False)\n",
    "feature_test.to_csv('../data/feature/feature_test.csv', index=False)"
   ]
  }
 ],
 "metadata": {
  "kernelspec": {
   "display_name": "Python 3 (ipykernel)",
   "language": "python",
   "name": "python3"
  },
  "language_info": {
   "codemirror_mode": {
    "name": "ipython",
    "version": 3
   },
   "file_extension": ".py",
   "mimetype": "text/x-python",
   "name": "python",
   "nbconvert_exporter": "python",
   "pygments_lexer": "ipython3",
   "version": "3.9.12"
  }
 },
 "nbformat": 4,
 "nbformat_minor": 5
}
